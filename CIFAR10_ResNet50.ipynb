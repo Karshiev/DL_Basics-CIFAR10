{
 "cells": [
  {
   "cell_type": "code",
   "execution_count": 1,
   "metadata": {},
   "outputs": [],
   "source": [
    "import torch\n",
    "import torch.nn as nn\n",
    "import torchvision\n",
    "import torchvision.datasets as datasets\n",
    "import torchvision.transforms as transforms\n",
    "from torch.utils.data import DataLoader\n",
    "import torch.nn.functional as F\n",
    "import torch.optim as optim\n",
    "from tqdm import tqdm\n",
    "import pandas as pd\n",
    "import numpy as np\n",
    "import matplotlib.pyplot as plt"
   ]
  },
  {
   "cell_type": "code",
   "execution_count": 2,
   "metadata": {},
   "outputs": [],
   "source": [
    "# Hyperparams\n",
    "BATCH_SIZE = 128\n",
    "LR = 0.0005\n",
    "NUM_WORKERS = 8\n",
    "EPOCHS=100\n",
    "MOMENTUM = 0.9\n",
    "WEIGHT_DECAY = 1e-4"
   ]
  },
  {
   "cell_type": "code",
   "execution_count": 3,
   "metadata": {},
   "outputs": [],
   "source": [
    "def get_default_device():\n",
    "    \"\"\"Pick GPU if available, else CPU\"\"\"\n",
    "    if torch.cuda.is_available():\n",
    "        return torch.device('cuda:1')\n",
    "    else:\n",
    "        return torch.device('cpu')\n",
    "DEVICE = get_default_device()"
   ]
  },
  {
   "cell_type": "code",
   "execution_count": 4,
   "metadata": {},
   "outputs": [],
   "source": [
    "normMean = [0.485, 0.456, 0.406]\n",
    "normStd = [0.229, 0.224, 0.225]\n",
    "normTransform = transforms.Normalize(normMean, normStd)\n",
    "\n",
    "trainTransform = transforms.Compose([\n",
    "        transforms.Resize(256),\n",
    "        transforms.RandomHorizontalFlip(10),\n",
    "        transforms.RandomCrop(224, padding=16),\n",
    "        transforms.ToTensor(),\n",
    "        normTransform\n",
    "    ])\n",
    "testTransform = transforms.Compose([\n",
    "        transforms.Resize(224),\n",
    "        transforms.ToTensor(),\n",
    "        normTransform\n",
    "    ])"
   ]
  },
  {
   "cell_type": "code",
   "execution_count": 5,
   "metadata": {},
   "outputs": [
    {
     "name": "stdout",
     "output_type": "stream",
     "text": [
      "Files already downloaded and verified\n",
      "Files already downloaded and verified\n"
     ]
    }
   ],
   "source": [
    "train_dataset = datasets.CIFAR10(root='data', train=True, download=True, transform=trainTransform)\n",
    "test_dataset = datasets.CIFAR10(root='data', train=False, download=True, transform=testTransform)\n",
    "\n",
    "train_loader = DataLoader(dataset=train_dataset, batch_size=BATCH_SIZE, shuffle=True, num_workers=NUM_WORKERS, pin_memory=True)\n",
    "test_loader = DataLoader(dataset=test_dataset, batch_size=BATCH_SIZE, shuffle=True, num_workers=NUM_WORKERS, pin_memory=True)"
   ]
  },
  {
   "cell_type": "code",
   "execution_count": 7,
   "metadata": {},
   "outputs": [],
   "source": [
    "model = torchvision.models.resnet50(pretrained=True)\n",
    "    # for p in model.parameters():\n",
    "    #     p.requires_grad = False\n",
    "num_fltrs = model.fc.in_features\n",
    "model.fc = nn.Sequential(\n",
    "            nn.Linear(num_fltrs , 512),\n",
    "            nn.BatchNorm1d(512),\n",
    "            nn.Dropout(0.3),\n",
    "            nn.GELU(),\n",
    "            nn.Linear(512 , 256),\n",
    "            nn.BatchNorm1d(256),\n",
    "            nn.Dropout(0.3),\n",
    "            nn.GELU(),\n",
    "            nn.Linear(256 , 10),\n",
    "            nn.Softmax(dim=1))\n",
    "\n",
    "model = model.to(DEVICE)"
   ]
  },
  {
   "cell_type": "code",
   "execution_count": 8,
   "metadata": {},
   "outputs": [],
   "source": [
    "# import torch\n",
    "# import torch.nn as nn\n",
    "# inp = torch.tensor([1.0, 2.0, 3, 4, 5])\n",
    "\n",
    "# outplace_dropout = nn.Dropout(p=0.5)\n",
    "# print(inp)\n",
    "# output = outplace_dropout(inp)\n",
    "# print(output)\n",
    "# print(inp) # Notice that the input doesn't get changed here\n",
    "\n",
    "\n",
    "# inplace_droput = nn.Dropout(p=0.4, inplace=True)\n",
    "# inplace_droput(inp)\n",
    "# print(inp) # Notice that the input is changed now"
   ]
  },
  {
   "cell_type": "code",
   "execution_count": 9,
   "metadata": {},
   "outputs": [
    {
     "name": "stdout",
     "output_type": "stream",
     "text": [
      "ResNet(\n",
      "  (conv1): Conv2d(3, 64, kernel_size=(7, 7), stride=(2, 2), padding=(3, 3), bias=False)\n",
      "  (bn1): BatchNorm2d(64, eps=1e-05, momentum=0.1, affine=True, track_running_stats=True)\n",
      "  (relu): ReLU(inplace=True)\n",
      "  (maxpool): MaxPool2d(kernel_size=3, stride=2, padding=1, dilation=1, ceil_mode=False)\n",
      "  (layer1): Sequential(\n",
      "    (0): Bottleneck(\n",
      "      (conv1): Conv2d(64, 64, kernel_size=(1, 1), stride=(1, 1), bias=False)\n",
      "      (bn1): BatchNorm2d(64, eps=1e-05, momentum=0.1, affine=True, track_running_stats=True)\n",
      "      (conv2): Conv2d(64, 64, kernel_size=(3, 3), stride=(1, 1), padding=(1, 1), bias=False)\n",
      "      (bn2): BatchNorm2d(64, eps=1e-05, momentum=0.1, affine=True, track_running_stats=True)\n",
      "      (conv3): Conv2d(64, 256, kernel_size=(1, 1), stride=(1, 1), bias=False)\n",
      "      (bn3): BatchNorm2d(256, eps=1e-05, momentum=0.1, affine=True, track_running_stats=True)\n",
      "      (relu): ReLU(inplace=True)\n",
      "      (downsample): Sequential(\n",
      "        (0): Conv2d(64, 256, kernel_size=(1, 1), stride=(1, 1), bias=False)\n",
      "        (1): BatchNorm2d(256, eps=1e-05, momentum=0.1, affine=True, track_running_stats=True)\n",
      "      )\n",
      "    )\n",
      "    (1): Bottleneck(\n",
      "      (conv1): Conv2d(256, 64, kernel_size=(1, 1), stride=(1, 1), bias=False)\n",
      "      (bn1): BatchNorm2d(64, eps=1e-05, momentum=0.1, affine=True, track_running_stats=True)\n",
      "      (conv2): Conv2d(64, 64, kernel_size=(3, 3), stride=(1, 1), padding=(1, 1), bias=False)\n",
      "      (bn2): BatchNorm2d(64, eps=1e-05, momentum=0.1, affine=True, track_running_stats=True)\n",
      "      (conv3): Conv2d(64, 256, kernel_size=(1, 1), stride=(1, 1), bias=False)\n",
      "      (bn3): BatchNorm2d(256, eps=1e-05, momentum=0.1, affine=True, track_running_stats=True)\n",
      "      (relu): ReLU(inplace=True)\n",
      "    )\n",
      "    (2): Bottleneck(\n",
      "      (conv1): Conv2d(256, 64, kernel_size=(1, 1), stride=(1, 1), bias=False)\n",
      "      (bn1): BatchNorm2d(64, eps=1e-05, momentum=0.1, affine=True, track_running_stats=True)\n",
      "      (conv2): Conv2d(64, 64, kernel_size=(3, 3), stride=(1, 1), padding=(1, 1), bias=False)\n",
      "      (bn2): BatchNorm2d(64, eps=1e-05, momentum=0.1, affine=True, track_running_stats=True)\n",
      "      (conv3): Conv2d(64, 256, kernel_size=(1, 1), stride=(1, 1), bias=False)\n",
      "      (bn3): BatchNorm2d(256, eps=1e-05, momentum=0.1, affine=True, track_running_stats=True)\n",
      "      (relu): ReLU(inplace=True)\n",
      "    )\n",
      "  )\n",
      "  (layer2): Sequential(\n",
      "    (0): Bottleneck(\n",
      "      (conv1): Conv2d(256, 128, kernel_size=(1, 1), stride=(1, 1), bias=False)\n",
      "      (bn1): BatchNorm2d(128, eps=1e-05, momentum=0.1, affine=True, track_running_stats=True)\n",
      "      (conv2): Conv2d(128, 128, kernel_size=(3, 3), stride=(2, 2), padding=(1, 1), bias=False)\n",
      "      (bn2): BatchNorm2d(128, eps=1e-05, momentum=0.1, affine=True, track_running_stats=True)\n",
      "      (conv3): Conv2d(128, 512, kernel_size=(1, 1), stride=(1, 1), bias=False)\n",
      "      (bn3): BatchNorm2d(512, eps=1e-05, momentum=0.1, affine=True, track_running_stats=True)\n",
      "      (relu): ReLU(inplace=True)\n",
      "      (downsample): Sequential(\n",
      "        (0): Conv2d(256, 512, kernel_size=(1, 1), stride=(2, 2), bias=False)\n",
      "        (1): BatchNorm2d(512, eps=1e-05, momentum=0.1, affine=True, track_running_stats=True)\n",
      "      )\n",
      "    )\n",
      "    (1): Bottleneck(\n",
      "      (conv1): Conv2d(512, 128, kernel_size=(1, 1), stride=(1, 1), bias=False)\n",
      "      (bn1): BatchNorm2d(128, eps=1e-05, momentum=0.1, affine=True, track_running_stats=True)\n",
      "      (conv2): Conv2d(128, 128, kernel_size=(3, 3), stride=(1, 1), padding=(1, 1), bias=False)\n",
      "      (bn2): BatchNorm2d(128, eps=1e-05, momentum=0.1, affine=True, track_running_stats=True)\n",
      "      (conv3): Conv2d(128, 512, kernel_size=(1, 1), stride=(1, 1), bias=False)\n",
      "      (bn3): BatchNorm2d(512, eps=1e-05, momentum=0.1, affine=True, track_running_stats=True)\n",
      "      (relu): ReLU(inplace=True)\n",
      "    )\n",
      "    (2): Bottleneck(\n",
      "      (conv1): Conv2d(512, 128, kernel_size=(1, 1), stride=(1, 1), bias=False)\n",
      "      (bn1): BatchNorm2d(128, eps=1e-05, momentum=0.1, affine=True, track_running_stats=True)\n",
      "      (conv2): Conv2d(128, 128, kernel_size=(3, 3), stride=(1, 1), padding=(1, 1), bias=False)\n",
      "      (bn2): BatchNorm2d(128, eps=1e-05, momentum=0.1, affine=True, track_running_stats=True)\n",
      "      (conv3): Conv2d(128, 512, kernel_size=(1, 1), stride=(1, 1), bias=False)\n",
      "      (bn3): BatchNorm2d(512, eps=1e-05, momentum=0.1, affine=True, track_running_stats=True)\n",
      "      (relu): ReLU(inplace=True)\n",
      "    )\n",
      "    (3): Bottleneck(\n",
      "      (conv1): Conv2d(512, 128, kernel_size=(1, 1), stride=(1, 1), bias=False)\n",
      "      (bn1): BatchNorm2d(128, eps=1e-05, momentum=0.1, affine=True, track_running_stats=True)\n",
      "      (conv2): Conv2d(128, 128, kernel_size=(3, 3), stride=(1, 1), padding=(1, 1), bias=False)\n",
      "      (bn2): BatchNorm2d(128, eps=1e-05, momentum=0.1, affine=True, track_running_stats=True)\n",
      "      (conv3): Conv2d(128, 512, kernel_size=(1, 1), stride=(1, 1), bias=False)\n",
      "      (bn3): BatchNorm2d(512, eps=1e-05, momentum=0.1, affine=True, track_running_stats=True)\n",
      "      (relu): ReLU(inplace=True)\n",
      "    )\n",
      "  )\n",
      "  (layer3): Sequential(\n",
      "    (0): Bottleneck(\n",
      "      (conv1): Conv2d(512, 256, kernel_size=(1, 1), stride=(1, 1), bias=False)\n",
      "      (bn1): BatchNorm2d(256, eps=1e-05, momentum=0.1, affine=True, track_running_stats=True)\n",
      "      (conv2): Conv2d(256, 256, kernel_size=(3, 3), stride=(2, 2), padding=(1, 1), bias=False)\n",
      "      (bn2): BatchNorm2d(256, eps=1e-05, momentum=0.1, affine=True, track_running_stats=True)\n",
      "      (conv3): Conv2d(256, 1024, kernel_size=(1, 1), stride=(1, 1), bias=False)\n",
      "      (bn3): BatchNorm2d(1024, eps=1e-05, momentum=0.1, affine=True, track_running_stats=True)\n",
      "      (relu): ReLU(inplace=True)\n",
      "      (downsample): Sequential(\n",
      "        (0): Conv2d(512, 1024, kernel_size=(1, 1), stride=(2, 2), bias=False)\n",
      "        (1): BatchNorm2d(1024, eps=1e-05, momentum=0.1, affine=True, track_running_stats=True)\n",
      "      )\n",
      "    )\n",
      "    (1): Bottleneck(\n",
      "      (conv1): Conv2d(1024, 256, kernel_size=(1, 1), stride=(1, 1), bias=False)\n",
      "      (bn1): BatchNorm2d(256, eps=1e-05, momentum=0.1, affine=True, track_running_stats=True)\n",
      "      (conv2): Conv2d(256, 256, kernel_size=(3, 3), stride=(1, 1), padding=(1, 1), bias=False)\n",
      "      (bn2): BatchNorm2d(256, eps=1e-05, momentum=0.1, affine=True, track_running_stats=True)\n",
      "      (conv3): Conv2d(256, 1024, kernel_size=(1, 1), stride=(1, 1), bias=False)\n",
      "      (bn3): BatchNorm2d(1024, eps=1e-05, momentum=0.1, affine=True, track_running_stats=True)\n",
      "      (relu): ReLU(inplace=True)\n",
      "    )\n",
      "    (2): Bottleneck(\n",
      "      (conv1): Conv2d(1024, 256, kernel_size=(1, 1), stride=(1, 1), bias=False)\n",
      "      (bn1): BatchNorm2d(256, eps=1e-05, momentum=0.1, affine=True, track_running_stats=True)\n",
      "      (conv2): Conv2d(256, 256, kernel_size=(3, 3), stride=(1, 1), padding=(1, 1), bias=False)\n",
      "      (bn2): BatchNorm2d(256, eps=1e-05, momentum=0.1, affine=True, track_running_stats=True)\n",
      "      (conv3): Conv2d(256, 1024, kernel_size=(1, 1), stride=(1, 1), bias=False)\n",
      "      (bn3): BatchNorm2d(1024, eps=1e-05, momentum=0.1, affine=True, track_running_stats=True)\n",
      "      (relu): ReLU(inplace=True)\n",
      "    )\n",
      "    (3): Bottleneck(\n",
      "      (conv1): Conv2d(1024, 256, kernel_size=(1, 1), stride=(1, 1), bias=False)\n",
      "      (bn1): BatchNorm2d(256, eps=1e-05, momentum=0.1, affine=True, track_running_stats=True)\n",
      "      (conv2): Conv2d(256, 256, kernel_size=(3, 3), stride=(1, 1), padding=(1, 1), bias=False)\n",
      "      (bn2): BatchNorm2d(256, eps=1e-05, momentum=0.1, affine=True, track_running_stats=True)\n",
      "      (conv3): Conv2d(256, 1024, kernel_size=(1, 1), stride=(1, 1), bias=False)\n",
      "      (bn3): BatchNorm2d(1024, eps=1e-05, momentum=0.1, affine=True, track_running_stats=True)\n",
      "      (relu): ReLU(inplace=True)\n",
      "    )\n",
      "    (4): Bottleneck(\n",
      "      (conv1): Conv2d(1024, 256, kernel_size=(1, 1), stride=(1, 1), bias=False)\n",
      "      (bn1): BatchNorm2d(256, eps=1e-05, momentum=0.1, affine=True, track_running_stats=True)\n",
      "      (conv2): Conv2d(256, 256, kernel_size=(3, 3), stride=(1, 1), padding=(1, 1), bias=False)\n",
      "      (bn2): BatchNorm2d(256, eps=1e-05, momentum=0.1, affine=True, track_running_stats=True)\n",
      "      (conv3): Conv2d(256, 1024, kernel_size=(1, 1), stride=(1, 1), bias=False)\n",
      "      (bn3): BatchNorm2d(1024, eps=1e-05, momentum=0.1, affine=True, track_running_stats=True)\n",
      "      (relu): ReLU(inplace=True)\n",
      "    )\n",
      "    (5): Bottleneck(\n",
      "      (conv1): Conv2d(1024, 256, kernel_size=(1, 1), stride=(1, 1), bias=False)\n",
      "      (bn1): BatchNorm2d(256, eps=1e-05, momentum=0.1, affine=True, track_running_stats=True)\n",
      "      (conv2): Conv2d(256, 256, kernel_size=(3, 3), stride=(1, 1), padding=(1, 1), bias=False)\n",
      "      (bn2): BatchNorm2d(256, eps=1e-05, momentum=0.1, affine=True, track_running_stats=True)\n",
      "      (conv3): Conv2d(256, 1024, kernel_size=(1, 1), stride=(1, 1), bias=False)\n",
      "      (bn3): BatchNorm2d(1024, eps=1e-05, momentum=0.1, affine=True, track_running_stats=True)\n",
      "      (relu): ReLU(inplace=True)\n",
      "    )\n",
      "  )\n",
      "  (layer4): Sequential(\n",
      "    (0): Bottleneck(\n",
      "      (conv1): Conv2d(1024, 512, kernel_size=(1, 1), stride=(1, 1), bias=False)\n",
      "      (bn1): BatchNorm2d(512, eps=1e-05, momentum=0.1, affine=True, track_running_stats=True)\n",
      "      (conv2): Conv2d(512, 512, kernel_size=(3, 3), stride=(2, 2), padding=(1, 1), bias=False)\n",
      "      (bn2): BatchNorm2d(512, eps=1e-05, momentum=0.1, affine=True, track_running_stats=True)\n",
      "      (conv3): Conv2d(512, 2048, kernel_size=(1, 1), stride=(1, 1), bias=False)\n",
      "      (bn3): BatchNorm2d(2048, eps=1e-05, momentum=0.1, affine=True, track_running_stats=True)\n",
      "      (relu): ReLU(inplace=True)\n",
      "      (downsample): Sequential(\n",
      "        (0): Conv2d(1024, 2048, kernel_size=(1, 1), stride=(2, 2), bias=False)\n",
      "        (1): BatchNorm2d(2048, eps=1e-05, momentum=0.1, affine=True, track_running_stats=True)\n",
      "      )\n",
      "    )\n",
      "    (1): Bottleneck(\n",
      "      (conv1): Conv2d(2048, 512, kernel_size=(1, 1), stride=(1, 1), bias=False)\n",
      "      (bn1): BatchNorm2d(512, eps=1e-05, momentum=0.1, affine=True, track_running_stats=True)\n",
      "      (conv2): Conv2d(512, 512, kernel_size=(3, 3), stride=(1, 1), padding=(1, 1), bias=False)\n",
      "      (bn2): BatchNorm2d(512, eps=1e-05, momentum=0.1, affine=True, track_running_stats=True)\n",
      "      (conv3): Conv2d(512, 2048, kernel_size=(1, 1), stride=(1, 1), bias=False)\n",
      "      (bn3): BatchNorm2d(2048, eps=1e-05, momentum=0.1, affine=True, track_running_stats=True)\n",
      "      (relu): ReLU(inplace=True)\n",
      "    )\n",
      "    (2): Bottleneck(\n",
      "      (conv1): Conv2d(2048, 512, kernel_size=(1, 1), stride=(1, 1), bias=False)\n",
      "      (bn1): BatchNorm2d(512, eps=1e-05, momentum=0.1, affine=True, track_running_stats=True)\n",
      "      (conv2): Conv2d(512, 512, kernel_size=(3, 3), stride=(1, 1), padding=(1, 1), bias=False)\n",
      "      (bn2): BatchNorm2d(512, eps=1e-05, momentum=0.1, affine=True, track_running_stats=True)\n",
      "      (conv3): Conv2d(512, 2048, kernel_size=(1, 1), stride=(1, 1), bias=False)\n",
      "      (bn3): BatchNorm2d(2048, eps=1e-05, momentum=0.1, affine=True, track_running_stats=True)\n",
      "      (relu): ReLU(inplace=True)\n",
      "    )\n",
      "  )\n",
      "  (avgpool): AdaptiveAvgPool2d(output_size=(1, 1))\n",
      "  (fc): Sequential(\n",
      "    (0): Linear(in_features=2048, out_features=512, bias=True)\n",
      "    (1): BatchNorm1d(512, eps=1e-05, momentum=0.1, affine=True, track_running_stats=True)\n",
      "    (2): Dropout(p=0.3, inplace=False)\n",
      "    (3): GELU()\n",
      "    (4): Linear(in_features=512, out_features=256, bias=True)\n",
      "    (5): BatchNorm1d(256, eps=1e-05, momentum=0.1, affine=True, track_running_stats=True)\n",
      "    (6): Dropout(p=0.3, inplace=False)\n",
      "    (7): GELU()\n",
      "    (8): Linear(in_features=256, out_features=10, bias=True)\n",
      "    (9): Softmax(dim=1)\n",
      "  )\n",
      ")\n"
     ]
    }
   ],
   "source": [
    "print(model)"
   ]
  },
  {
   "cell_type": "code",
   "execution_count": 10,
   "metadata": {
    "scrolled": true
   },
   "outputs": [],
   "source": [
    "criterion = nn.CrossEntropyLoss()\n",
    "\n",
    "optimizer = torch.optim.SGD(model.parameters(), LR,\n",
    "                            momentum=MOMENTUM,\n",
    "                            weight_decay=WEIGHT_DECAY, nesterov=True)\n",
    "scheduler = torch.optim.lr_scheduler.CyclicLR(optimizer, base_lr=0.0005, max_lr=0.001)"
   ]
  },
  {
   "cell_type": "code",
   "execution_count": 11,
   "metadata": {},
   "outputs": [],
   "source": [
    "def trainEpoch(device, model, loader, optimizer, criterion):\n",
    "    grad_clip = 0.1\n",
    "    loop = tqdm(loader)\n",
    "    model.train()\n",
    "\n",
    "    losses = []\n",
    "    correct = 0\n",
    "    total = 0\n",
    "    for batch_id, (images, labels) in enumerate(loop):\n",
    "        images, labels = images.to(device), labels.to(device)\n",
    "        model = model.to(device)\n",
    "        outputs = model(images)\n",
    "\n",
    "        _, predicted = torch.max(outputs, 1)\n",
    "        total += labels.size(0)\n",
    "        correct += (predicted==labels).sum().item()\n",
    "\n",
    "        loss = criterion(outputs, labels)\n",
    "        losses.append(loss.item())\n",
    "\n",
    "\n",
    "        optimizer.zero_grad()\n",
    "        loss.backward()\n",
    "        if grad_clip: \n",
    "            nn.utils.clip_grad_value_(model.parameters(), grad_clip)\n",
    "        \n",
    "        optimizer.step()\n",
    "        loop.set_postfix(train_loss=loss.item(), train_accuracy=(100*correct/total))\n",
    "\n",
    "    return np.mean(losses), 100*correct/total\n",
    "\n",
    "\n",
    "def testEpoch(device, model, loader, criterion):\n",
    "    \n",
    "    model.eval()\n",
    "    with torch.no_grad():\n",
    "        losses = []\n",
    "        correct = 0\n",
    "        total = 0\n",
    "        loop = tqdm(loader)\n",
    "        for batch_id, (images, labels) in enumerate(loop):\n",
    "            images, labels = images.to(device), labels.to(device)\n",
    "            model = model.to(device)\n",
    "        \n",
    "            outputs = model(images)\n",
    "\n",
    "            _, predicted = torch.max(outputs, 1)\n",
    "            total += labels.size(0)\n",
    "            correct += (predicted==labels).sum().item()\n",
    "\n",
    "            loss = criterion(outputs, labels)\n",
    "            losses.append(loss.item())\n",
    "\n",
    "            loop.set_postfix(test_loss=loss.item(), test_accuracy=(100*correct/total))\n",
    "\n",
    "        return np.mean(losses), 100*correct/total"
   ]
  },
  {
   "cell_type": "code",
   "execution_count": 12,
   "metadata": {},
   "outputs": [
    {
     "name": "stderr",
     "output_type": "stream",
     "text": [
      "100%|███| 391/391 [03:02<00:00,  2.14it/s, train_accuracy=31.5, train_loss=2.11]\n",
      "100%|███████| 79/79 [00:12<00:00,  6.38it/s, test_accuracy=62.2, test_loss=1.98]\n"
     ]
    },
    {
     "name": "stdout",
     "output_type": "stream",
     "text": [
      "Saving new Best Model!\n",
      "Train losses: 2.226,   Train acc: 31.508 \n",
      "Test losses: 2.073,   Test acc: 62.180 \n"
     ]
    },
    {
     "name": "stderr",
     "output_type": "stream",
     "text": [
      "100%|█████| 391/391 [03:04<00:00,  2.12it/s, train_accuracy=71, train_loss=1.75]\n",
      "100%|███████| 79/79 [00:12<00:00,  6.38it/s, test_accuracy=83.7, test_loss=1.62]\n"
     ]
    },
    {
     "name": "stdout",
     "output_type": "stream",
     "text": [
      "Saving new Best Model!\n",
      "Train losses: 1.933,   Train acc: 71.006 \n",
      "Test losses: 1.758,   Test acc: 83.740 \n"
     ]
    },
    {
     "name": "stderr",
     "output_type": "stream",
     "text": [
      "100%|███| 391/391 [03:04<00:00,  2.12it/s, train_accuracy=85.7, train_loss=1.66]\n",
      "100%|████████| 79/79 [00:12<00:00,  6.31it/s, test_accuracy=90.3, test_loss=1.6]\n"
     ]
    },
    {
     "name": "stdout",
     "output_type": "stream",
     "text": [
      "Saving new Best Model!\n",
      "Train losses: 1.710,   Train acc: 85.650 \n",
      "Test losses: 1.621,   Test acc: 90.270 \n"
     ]
    },
    {
     "name": "stderr",
     "output_type": "stream",
     "text": [
      "100%|███| 391/391 [03:04<00:00,  2.12it/s, train_accuracy=89.7, train_loss=1.57]\n",
      "100%|███████| 79/79 [00:12<00:00,  6.35it/s, test_accuracy=92.3, test_loss=1.56]\n"
     ]
    },
    {
     "name": "stdout",
     "output_type": "stream",
     "text": [
      "Saving new Best Model!\n",
      "Train losses: 1.622,   Train acc: 89.746 \n",
      "Test losses: 1.575,   Test acc: 92.260 \n"
     ]
    },
    {
     "name": "stderr",
     "output_type": "stream",
     "text": [
      "100%|███| 391/391 [03:04<00:00,  2.12it/s, train_accuracy=91.6, train_loss=1.53]\n",
      "100%|███████| 79/79 [00:12<00:00,  6.41it/s, test_accuracy=93.2, test_loss=1.58]\n"
     ]
    },
    {
     "name": "stdout",
     "output_type": "stream",
     "text": [
      "Saving new Best Model!\n",
      "Train losses: 1.585,   Train acc: 91.592 \n",
      "Test losses: 1.557,   Test acc: 93.160 \n"
     ]
    },
    {
     "name": "stderr",
     "output_type": "stream",
     "text": [
      "100%|███| 391/391 [03:04<00:00,  2.12it/s, train_accuracy=92.6, train_loss=1.57]\n",
      "100%|████████| 79/79 [00:12<00:00,  6.38it/s, test_accuracy=93.5, test_loss=1.5]\n"
     ]
    },
    {
     "name": "stdout",
     "output_type": "stream",
     "text": [
      "Saving new Best Model!\n",
      "Train losses: 1.566,   Train acc: 92.576 \n",
      "Test losses: 1.544,   Test acc: 93.500 \n"
     ]
    },
    {
     "name": "stderr",
     "output_type": "stream",
     "text": [
      "100%|███| 391/391 [03:04<00:00,  2.12it/s, train_accuracy=93.4, train_loss=1.55]\n",
      "100%|███████| 79/79 [00:12<00:00,  6.47it/s, test_accuracy=93.9, test_loss=1.47]\n"
     ]
    },
    {
     "name": "stdout",
     "output_type": "stream",
     "text": [
      "Saving new Best Model!\n",
      "Train losses: 1.551,   Train acc: 93.372 \n",
      "Test losses: 1.536,   Test acc: 93.880 \n"
     ]
    },
    {
     "name": "stderr",
     "output_type": "stream",
     "text": [
      "100%|███| 391/391 [03:04<00:00,  2.12it/s, train_accuracy=94.1, train_loss=1.55]\n",
      "100%|███████| 79/79 [00:12<00:00,  6.36it/s, test_accuracy=94.1, test_loss=1.51]\n"
     ]
    },
    {
     "name": "stdout",
     "output_type": "stream",
     "text": [
      "Saving new Best Model!\n",
      "Train losses: 1.541,   Train acc: 94.056 \n",
      "Test losses: 1.532,   Test acc: 94.090 \n"
     ]
    },
    {
     "name": "stderr",
     "output_type": "stream",
     "text": [
      "100%|███| 391/391 [03:04<00:00,  2.12it/s, train_accuracy=94.4, train_loss=1.53]\n",
      "100%|███████| 79/79 [00:12<00:00,  6.22it/s, test_accuracy=94.6, test_loss=1.53]\n"
     ]
    },
    {
     "name": "stdout",
     "output_type": "stream",
     "text": [
      "Saving new Best Model!\n",
      "Train losses: 1.534,   Train acc: 94.432 \n",
      "Test losses: 1.526,   Test acc: 94.620 \n"
     ]
    },
    {
     "name": "stderr",
     "output_type": "stream",
     "text": [
      "100%|███| 391/391 [03:04<00:00,  2.12it/s, train_accuracy=95.1, train_loss=1.57]\n",
      "100%|███████| 79/79 [00:12<00:00,  6.50it/s, test_accuracy=94.8, test_loss=1.64]\n"
     ]
    },
    {
     "name": "stdout",
     "output_type": "stream",
     "text": [
      "Saving new Best Model!\n",
      "Train losses: 1.526,   Train acc: 95.092 \n",
      "Test losses: 1.524,   Test acc: 94.790 \n"
     ]
    },
    {
     "name": "stderr",
     "output_type": "stream",
     "text": [
      "100%|███| 391/391 [03:04<00:00,  2.12it/s, train_accuracy=95.4, train_loss=1.56]\n",
      "100%|███████| 79/79 [00:12<00:00,  6.46it/s, test_accuracy=94.9, test_loss=1.56]\n"
     ]
    },
    {
     "name": "stdout",
     "output_type": "stream",
     "text": [
      "Saving new Best Model!\n",
      "Train losses: 1.522,   Train acc: 95.376 \n",
      "Test losses: 1.522,   Test acc: 94.880 \n"
     ]
    },
    {
     "name": "stderr",
     "output_type": "stream",
     "text": [
      "100%|███| 391/391 [03:03<00:00,  2.13it/s, train_accuracy=95.7, train_loss=1.54]\n",
      "100%|███████| 79/79 [00:12<00:00,  6.37it/s, test_accuracy=94.9, test_loss=1.46]\n"
     ]
    },
    {
     "name": "stdout",
     "output_type": "stream",
     "text": [
      "Saving new Best Model!\n",
      "Train losses: 1.518,   Train acc: 95.688 \n",
      "Test losses: 1.518,   Test acc: 94.930 \n"
     ]
    },
    {
     "name": "stderr",
     "output_type": "stream",
     "text": [
      "100%|█████| 391/391 [03:04<00:00,  2.12it/s, train_accuracy=96, train_loss=1.53]\n",
      "100%|███████| 79/79 [00:12<00:00,  6.41it/s, test_accuracy=95.3, test_loss=1.47]\n"
     ]
    },
    {
     "name": "stdout",
     "output_type": "stream",
     "text": [
      "Saving new Best Model!\n",
      "Train losses: 1.513,   Train acc: 96.038 \n",
      "Test losses: 1.515,   Test acc: 95.290 \n"
     ]
    },
    {
     "name": "stderr",
     "output_type": "stream",
     "text": [
      "100%|███| 391/391 [03:04<00:00,  2.12it/s, train_accuracy=96.2, train_loss=1.47]\n",
      "100%|███████| 79/79 [00:12<00:00,  6.39it/s, test_accuracy=95.1, test_loss=1.52]\n"
     ]
    },
    {
     "name": "stdout",
     "output_type": "stream",
     "text": [
      "Train losses: 1.510,   Train acc: 96.212 \n",
      "Test losses: 1.516,   Test acc: 95.100 \n"
     ]
    },
    {
     "name": "stderr",
     "output_type": "stream",
     "text": [
      "100%|████| 391/391 [03:04<00:00,  2.12it/s, train_accuracy=96.5, train_loss=1.5]\n",
      "100%|███████| 79/79 [00:12<00:00,  6.40it/s, test_accuracy=95.2, test_loss=1.46]\n"
     ]
    },
    {
     "name": "stdout",
     "output_type": "stream",
     "text": [
      "Train losses: 1.506,   Train acc: 96.494 \n",
      "Test losses: 1.514,   Test acc: 95.240 \n"
     ]
    },
    {
     "name": "stderr",
     "output_type": "stream",
     "text": [
      "100%|███| 391/391 [03:04<00:00,  2.12it/s, train_accuracy=96.8, train_loss=1.48]\n",
      "100%|███████| 79/79 [00:12<00:00,  6.39it/s, test_accuracy=95.4, test_loss=1.47]\n"
     ]
    },
    {
     "name": "stdout",
     "output_type": "stream",
     "text": [
      "Saving new Best Model!\n",
      "Train losses: 1.503,   Train acc: 96.808 \n",
      "Test losses: 1.512,   Test acc: 95.420 \n"
     ]
    },
    {
     "name": "stderr",
     "output_type": "stream",
     "text": [
      "100%|███| 391/391 [03:04<00:00,  2.12it/s, train_accuracy=96.9, train_loss=1.51]\n",
      "100%|███████| 79/79 [00:12<00:00,  6.45it/s, test_accuracy=95.3, test_loss=1.47]\n"
     ]
    },
    {
     "name": "stdout",
     "output_type": "stream",
     "text": [
      "Train losses: 1.501,   Train acc: 96.914 \n",
      "Test losses: 1.512,   Test acc: 95.300 \n"
     ]
    },
    {
     "name": "stderr",
     "output_type": "stream",
     "text": [
      "100%|███| 391/391 [03:04<00:00,  2.12it/s, train_accuracy=97.1, train_loss=1.51]\n",
      "100%|███████| 79/79 [00:12<00:00,  6.45it/s, test_accuracy=95.4, test_loss=1.48]\n"
     ]
    },
    {
     "name": "stdout",
     "output_type": "stream",
     "text": [
      "Train losses: 1.499,   Train acc: 97.128 \n",
      "Test losses: 1.512,   Test acc: 95.380 \n"
     ]
    },
    {
     "name": "stderr",
     "output_type": "stream",
     "text": [
      "100%|███| 391/391 [03:04<00:00,  2.12it/s, train_accuracy=97.2, train_loss=1.54]\n",
      "100%|███████| 79/79 [00:12<00:00,  6.52it/s, test_accuracy=95.4, test_loss=1.46]\n"
     ]
    },
    {
     "name": "stdout",
     "output_type": "stream",
     "text": [
      "Train losses: 1.497,   Train acc: 97.156 \n",
      "Test losses: 1.511,   Test acc: 95.400 \n"
     ]
    },
    {
     "name": "stderr",
     "output_type": "stream",
     "text": [
      "100%|████| 391/391 [03:04<00:00,  2.12it/s, train_accuracy=97.4, train_loss=1.5]\n",
      "100%|███████| 79/79 [00:12<00:00,  6.38it/s, test_accuracy=95.5, test_loss=1.56]\n"
     ]
    },
    {
     "name": "stdout",
     "output_type": "stream",
     "text": [
      "Saving new Best Model!\n",
      "Train losses: 1.495,   Train acc: 97.428 \n",
      "Test losses: 1.512,   Test acc: 95.490 \n"
     ]
    },
    {
     "name": "stderr",
     "output_type": "stream",
     "text": [
      "100%|███| 391/391 [03:04<00:00,  2.12it/s, train_accuracy=97.6, train_loss=1.49]\n",
      "100%|███████| 79/79 [00:12<00:00,  6.42it/s, test_accuracy=95.6, test_loss=1.57]\n"
     ]
    },
    {
     "name": "stdout",
     "output_type": "stream",
     "text": [
      "Saving new Best Model!\n",
      "Train losses: 1.493,   Train acc: 97.596 \n",
      "Test losses: 1.511,   Test acc: 95.630 \n"
     ]
    },
    {
     "name": "stderr",
     "output_type": "stream",
     "text": [
      "100%|███| 391/391 [03:04<00:00,  2.12it/s, train_accuracy=97.7, train_loss=1.51]\n",
      "100%|███████| 79/79 [00:12<00:00,  6.30it/s, test_accuracy=95.8, test_loss=1.53]\n"
     ]
    },
    {
     "name": "stdout",
     "output_type": "stream",
     "text": [
      "Saving new Best Model!\n",
      "Train losses: 1.491,   Train acc: 97.692 \n",
      "Test losses: 1.509,   Test acc: 95.750 \n"
     ]
    },
    {
     "name": "stderr",
     "output_type": "stream",
     "text": [
      "100%|███| 391/391 [03:04<00:00,  2.12it/s, train_accuracy=97.8, train_loss=1.48]\n",
      "100%|███████| 79/79 [00:12<00:00,  6.29it/s, test_accuracy=95.5, test_loss=1.58]\n"
     ]
    },
    {
     "name": "stdout",
     "output_type": "stream",
     "text": [
      "Train losses: 1.491,   Train acc: 97.776 \n",
      "Test losses: 1.510,   Test acc: 95.490 \n"
     ]
    },
    {
     "name": "stderr",
     "output_type": "stream",
     "text": [
      "100%|███| 391/391 [03:04<00:00,  2.12it/s, train_accuracy=97.8, train_loss=1.49]\n",
      "100%|███████| 79/79 [00:12<00:00,  6.43it/s, test_accuracy=95.6, test_loss=1.52]\n"
     ]
    },
    {
     "name": "stdout",
     "output_type": "stream",
     "text": [
      "Train losses: 1.489,   Train acc: 97.826 \n",
      "Test losses: 1.509,   Test acc: 95.580 \n"
     ]
    },
    {
     "name": "stderr",
     "output_type": "stream",
     "text": [
      "100%|███| 391/391 [03:04<00:00,  2.12it/s, train_accuracy=97.9, train_loss=1.46]\n",
      "100%|███████| 79/79 [00:12<00:00,  6.37it/s, test_accuracy=95.5, test_loss=1.47]\n"
     ]
    },
    {
     "name": "stdout",
     "output_type": "stream",
     "text": [
      "Train losses: 1.488,   Train acc: 97.926 \n",
      "Test losses: 1.508,   Test acc: 95.540 \n"
     ]
    },
    {
     "name": "stderr",
     "output_type": "stream",
     "text": [
      "100%|█████| 391/391 [03:04<00:00,  2.12it/s, train_accuracy=98, train_loss=1.48]\n",
      "100%|███████| 79/79 [00:12<00:00,  6.32it/s, test_accuracy=95.7, test_loss=1.53]\n"
     ]
    },
    {
     "name": "stdout",
     "output_type": "stream",
     "text": [
      "Train losses: 1.487,   Train acc: 98.036 \n",
      "Test losses: 1.508,   Test acc: 95.660 \n"
     ]
    },
    {
     "name": "stderr",
     "output_type": "stream",
     "text": [
      "100%|████| 391/391 [03:04<00:00,  2.12it/s, train_accuracy=98.2, train_loss=1.5]\n",
      "100%|███████| 79/79 [00:12<00:00,  6.47it/s, test_accuracy=95.8, test_loss=1.46]\n"
     ]
    },
    {
     "name": "stdout",
     "output_type": "stream",
     "text": [
      "Saving new Best Model!\n",
      "Train losses: 1.485,   Train acc: 98.166 \n",
      "Test losses: 1.506,   Test acc: 95.800 \n"
     ]
    },
    {
     "name": "stderr",
     "output_type": "stream",
     "text": [
      "100%|███| 391/391 [03:04<00:00,  2.12it/s, train_accuracy=98.2, train_loss=1.49]\n",
      "100%|███████| 79/79 [00:12<00:00,  6.36it/s, test_accuracy=95.8, test_loss=1.51]\n"
     ]
    },
    {
     "name": "stdout",
     "output_type": "stream",
     "text": [
      "Saving new Best Model!\n",
      "Train losses: 1.484,   Train acc: 98.230 \n",
      "Test losses: 1.508,   Test acc: 95.800 \n"
     ]
    },
    {
     "name": "stderr",
     "output_type": "stream",
     "text": [
      "100%|███| 391/391 [03:04<00:00,  2.12it/s, train_accuracy=98.3, train_loss=1.48]\n",
      "100%|███████| 79/79 [00:12<00:00,  6.47it/s, test_accuracy=95.7, test_loss=1.47]\n"
     ]
    },
    {
     "name": "stdout",
     "output_type": "stream",
     "text": [
      "Train losses: 1.484,   Train acc: 98.294 \n",
      "Test losses: 1.506,   Test acc: 95.710 \n"
     ]
    },
    {
     "name": "stderr",
     "output_type": "stream",
     "text": [
      "100%|███| 391/391 [03:04<00:00,  2.12it/s, train_accuracy=98.4, train_loss=1.49]\n",
      "100%|███████| 79/79 [00:12<00:00,  6.45it/s, test_accuracy=95.8, test_loss=1.55]\n"
     ]
    },
    {
     "name": "stdout",
     "output_type": "stream",
     "text": [
      "Saving new Best Model!\n",
      "Train losses: 1.482,   Train acc: 98.406 \n",
      "Test losses: 1.507,   Test acc: 95.840 \n"
     ]
    },
    {
     "name": "stderr",
     "output_type": "stream",
     "text": [
      "100%|████| 391/391 [03:04<00:00,  2.12it/s, train_accuracy=98.5, train_loss=1.5]\n",
      "100%|███████| 79/79 [00:12<00:00,  6.33it/s, test_accuracy=95.7, test_loss=1.52]\n"
     ]
    },
    {
     "name": "stdout",
     "output_type": "stream",
     "text": [
      "Train losses: 1.481,   Train acc: 98.512 \n",
      "Test losses: 1.507,   Test acc: 95.660 \n"
     ]
    },
    {
     "name": "stderr",
     "output_type": "stream",
     "text": [
      "100%|███| 391/391 [03:03<00:00,  2.13it/s, train_accuracy=98.5, train_loss=1.49]\n",
      "100%|███████| 79/79 [00:12<00:00,  6.38it/s, test_accuracy=95.9, test_loss=1.51]\n"
     ]
    },
    {
     "name": "stdout",
     "output_type": "stream",
     "text": [
      "Saving new Best Model!\n",
      "Train losses: 1.481,   Train acc: 98.548 \n",
      "Test losses: 1.506,   Test acc: 95.870 \n"
     ]
    },
    {
     "name": "stderr",
     "output_type": "stream",
     "text": [
      "100%|███| 391/391 [03:03<00:00,  2.13it/s, train_accuracy=98.6, train_loss=1.47]\n",
      "100%|███████| 79/79 [00:12<00:00,  6.41it/s, test_accuracy=95.8, test_loss=1.57]\n"
     ]
    },
    {
     "name": "stdout",
     "output_type": "stream",
     "text": [
      "Train losses: 1.480,   Train acc: 98.634 \n",
      "Test losses: 1.507,   Test acc: 95.770 \n"
     ]
    },
    {
     "name": "stderr",
     "output_type": "stream",
     "text": [
      "100%|███| 391/391 [03:04<00:00,  2.12it/s, train_accuracy=98.6, train_loss=1.48]\n",
      "100%|███████| 79/79 [00:12<00:00,  6.32it/s, test_accuracy=95.9, test_loss=1.52]\n"
     ]
    },
    {
     "name": "stdout",
     "output_type": "stream",
     "text": [
      "Saving new Best Model!\n",
      "Train losses: 1.479,   Train acc: 98.648 \n",
      "Test losses: 1.505,   Test acc: 95.940 \n"
     ]
    },
    {
     "name": "stderr",
     "output_type": "stream",
     "text": [
      "100%|███| 391/391 [03:03<00:00,  2.13it/s, train_accuracy=98.7, train_loss=1.48]\n",
      "100%|███████| 79/79 [00:12<00:00,  6.31it/s, test_accuracy=95.9, test_loss=1.52]\n"
     ]
    },
    {
     "name": "stdout",
     "output_type": "stream",
     "text": [
      "Train losses: 1.478,   Train acc: 98.746 \n",
      "Test losses: 1.505,   Test acc: 95.890 \n"
     ]
    },
    {
     "name": "stderr",
     "output_type": "stream",
     "text": [
      "100%|███| 391/391 [03:04<00:00,  2.12it/s, train_accuracy=98.8, train_loss=1.49]\n",
      "100%|███████| 79/79 [00:12<00:00,  6.40it/s, test_accuracy=95.9, test_loss=1.46]\n"
     ]
    },
    {
     "name": "stdout",
     "output_type": "stream",
     "text": [
      "Saving new Best Model!\n",
      "Train losses: 1.477,   Train acc: 98.806 \n",
      "Test losses: 1.504,   Test acc: 95.940 \n"
     ]
    },
    {
     "name": "stderr",
     "output_type": "stream",
     "text": [
      "100%|███| 391/391 [03:04<00:00,  2.12it/s, train_accuracy=98.8, train_loss=1.46]\n",
      "100%|███████| 79/79 [00:12<00:00,  6.50it/s, test_accuracy=95.9, test_loss=1.52]\n"
     ]
    },
    {
     "name": "stdout",
     "output_type": "stream",
     "text": [
      "Saving new Best Model!\n",
      "Train losses: 1.477,   Train acc: 98.794 \n",
      "Test losses: 1.505,   Test acc: 95.940 \n"
     ]
    },
    {
     "name": "stderr",
     "output_type": "stream",
     "text": [
      "100%|███| 391/391 [03:04<00:00,  2.12it/s, train_accuracy=98.8, train_loss=1.47]\n",
      "100%|███████| 79/79 [00:12<00:00,  6.30it/s, test_accuracy=95.9, test_loss=1.55]\n"
     ]
    },
    {
     "name": "stdout",
     "output_type": "stream",
     "text": [
      "Train losses: 1.477,   Train acc: 98.848 \n",
      "Test losses: 1.505,   Test acc: 95.930 \n"
     ]
    },
    {
     "name": "stderr",
     "output_type": "stream",
     "text": [
      "100%|███| 391/391 [03:04<00:00,  2.12it/s, train_accuracy=98.9, train_loss=1.49]\n",
      "100%|█████████| 79/79 [00:12<00:00,  6.46it/s, test_accuracy=96, test_loss=1.52]\n"
     ]
    },
    {
     "name": "stdout",
     "output_type": "stream",
     "text": [
      "Saving new Best Model!\n",
      "Train losses: 1.476,   Train acc: 98.882 \n",
      "Test losses: 1.505,   Test acc: 95.960 \n"
     ]
    },
    {
     "name": "stderr",
     "output_type": "stream",
     "text": [
      "100%|█████| 391/391 [03:04<00:00,  2.12it/s, train_accuracy=99, train_loss=1.47]\n",
      "100%|███████| 79/79 [00:12<00:00,  6.48it/s, test_accuracy=95.9, test_loss=1.47]\n"
     ]
    },
    {
     "name": "stdout",
     "output_type": "stream",
     "text": [
      "Train losses: 1.476,   Train acc: 98.962 \n",
      "Test losses: 1.504,   Test acc: 95.870 \n"
     ]
    },
    {
     "name": "stderr",
     "output_type": "stream",
     "text": [
      "100%|███| 391/391 [03:04<00:00,  2.12it/s, train_accuracy=98.9, train_loss=1.46]\n",
      "100%|███████| 79/79 [00:12<00:00,  6.44it/s, test_accuracy=95.9, test_loss=1.46]\n"
     ]
    },
    {
     "name": "stdout",
     "output_type": "stream",
     "text": [
      "Train losses: 1.475,   Train acc: 98.932 \n",
      "Test losses: 1.504,   Test acc: 95.940 \n"
     ]
    },
    {
     "name": "stderr",
     "output_type": "stream",
     "text": [
      "100%|█████| 391/391 [03:04<00:00,  2.12it/s, train_accuracy=99, train_loss=1.48]\n",
      "100%|████████| 79/79 [00:12<00:00,  6.44it/s, test_accuracy=95.9, test_loss=1.5]\n"
     ]
    },
    {
     "name": "stdout",
     "output_type": "stream",
     "text": [
      "Train losses: 1.474,   Train acc: 99.048 \n",
      "Test losses: 1.504,   Test acc: 95.920 \n"
     ]
    },
    {
     "name": "stderr",
     "output_type": "stream",
     "text": [
      "100%|█████| 391/391 [03:04<00:00,  2.12it/s, train_accuracy=99, train_loss=1.47]\n",
      "100%|█████████| 79/79 [00:12<00:00,  6.40it/s, test_accuracy=96, test_loss=1.55]\n"
     ]
    },
    {
     "name": "stdout",
     "output_type": "stream",
     "text": [
      "Saving new Best Model!\n",
      "Train losses: 1.475,   Train acc: 98.990 \n",
      "Test losses: 1.505,   Test acc: 96.000 \n"
     ]
    },
    {
     "name": "stderr",
     "output_type": "stream",
     "text": [
      "100%|███| 391/391 [03:04<00:00,  2.12it/s, train_accuracy=99.1, train_loss=1.51]\n",
      "100%|███████| 79/79 [00:12<00:00,  6.30it/s, test_accuracy=95.8, test_loss=1.46]\n"
     ]
    },
    {
     "name": "stdout",
     "output_type": "stream",
     "text": [
      "Train losses: 1.474,   Train acc: 99.076 \n",
      "Test losses: 1.504,   Test acc: 95.830 \n"
     ]
    },
    {
     "name": "stderr",
     "output_type": "stream",
     "text": [
      "100%|███| 391/391 [03:04<00:00,  2.12it/s, train_accuracy=99.1, train_loss=1.47]\n",
      "100%|███████| 79/79 [00:12<00:00,  6.46it/s, test_accuracy=96.1, test_loss=1.53]\n"
     ]
    },
    {
     "name": "stdout",
     "output_type": "stream",
     "text": [
      "Saving new Best Model!\n",
      "Train losses: 1.473,   Train acc: 99.112 \n",
      "Test losses: 1.504,   Test acc: 96.070 \n"
     ]
    },
    {
     "name": "stderr",
     "output_type": "stream",
     "text": [
      "100%|███| 391/391 [03:04<00:00,  2.12it/s, train_accuracy=99.2, train_loss=1.47]\n",
      "100%|█████████| 79/79 [00:12<00:00,  6.34it/s, test_accuracy=96, test_loss=1.47]\n"
     ]
    },
    {
     "name": "stdout",
     "output_type": "stream",
     "text": [
      "Train losses: 1.473,   Train acc: 99.154 \n",
      "Test losses: 1.503,   Test acc: 95.980 \n"
     ]
    },
    {
     "name": "stderr",
     "output_type": "stream",
     "text": [
      "100%|███| 391/391 [03:04<00:00,  2.12it/s, train_accuracy=99.1, train_loss=1.48]\n",
      "100%|█████████| 79/79 [00:12<00:00,  6.44it/s, test_accuracy=96, test_loss=1.57]\n"
     ]
    },
    {
     "name": "stdout",
     "output_type": "stream",
     "text": [
      "Train losses: 1.473,   Train acc: 99.132 \n",
      "Test losses: 1.505,   Test acc: 95.950 \n"
     ]
    },
    {
     "name": "stderr",
     "output_type": "stream",
     "text": [
      "100%|███| 391/391 [03:04<00:00,  2.12it/s, train_accuracy=99.2, train_loss=1.46]\n",
      "100%|█████████| 79/79 [00:12<00:00,  6.42it/s, test_accuracy=96, test_loss=1.53]\n"
     ]
    },
    {
     "name": "stdout",
     "output_type": "stream",
     "text": [
      "Train losses: 1.472,   Train acc: 99.192 \n",
      "Test losses: 1.504,   Test acc: 95.970 \n"
     ]
    },
    {
     "name": "stderr",
     "output_type": "stream",
     "text": [
      "100%|███| 391/391 [03:04<00:00,  2.12it/s, train_accuracy=99.2, train_loss=1.47]\n",
      "100%|███████| 79/79 [00:12<00:00,  6.44it/s, test_accuracy=96.1, test_loss=1.46]\n"
     ]
    },
    {
     "name": "stdout",
     "output_type": "stream",
     "text": [
      "Saving new Best Model!\n",
      "Train losses: 1.472,   Train acc: 99.232 \n",
      "Test losses: 1.502,   Test acc: 96.090 \n"
     ]
    },
    {
     "name": "stderr",
     "output_type": "stream",
     "text": [
      "100%|███| 391/391 [03:04<00:00,  2.12it/s, train_accuracy=99.2, train_loss=1.48]\n",
      "100%|███████| 79/79 [00:12<00:00,  6.33it/s, test_accuracy=95.9, test_loss=1.53]\n"
     ]
    },
    {
     "name": "stdout",
     "output_type": "stream",
     "text": [
      "Train losses: 1.472,   Train acc: 99.228 \n",
      "Test losses: 1.505,   Test acc: 95.930 \n"
     ]
    },
    {
     "name": "stderr",
     "output_type": "stream",
     "text": [
      "100%|███| 391/391 [03:04<00:00,  2.12it/s, train_accuracy=99.3, train_loss=1.49]\n",
      "100%|█████████| 79/79 [00:12<00:00,  6.43it/s, test_accuracy=96, test_loss=1.58]\n"
     ]
    },
    {
     "name": "stdout",
     "output_type": "stream",
     "text": [
      "Train losses: 1.471,   Train acc: 99.306 \n",
      "Test losses: 1.504,   Test acc: 96.010 \n"
     ]
    },
    {
     "name": "stderr",
     "output_type": "stream",
     "text": [
      "100%|███| 391/391 [03:04<00:00,  2.12it/s, train_accuracy=99.3, train_loss=1.49]\n",
      "100%|█████████| 79/79 [00:12<00:00,  6.37it/s, test_accuracy=96, test_loss=1.56]\n"
     ]
    },
    {
     "name": "stdout",
     "output_type": "stream",
     "text": [
      "Train losses: 1.471,   Train acc: 99.306 \n",
      "Test losses: 1.504,   Test acc: 95.960 \n"
     ]
    },
    {
     "name": "stderr",
     "output_type": "stream",
     "text": [
      "100%|███| 391/391 [03:04<00:00,  2.12it/s, train_accuracy=99.4, train_loss=1.49]\n",
      "100%|█████████| 79/79 [00:12<00:00,  6.43it/s, test_accuracy=96, test_loss=1.46]\n"
     ]
    },
    {
     "name": "stdout",
     "output_type": "stream",
     "text": [
      "Train losses: 1.470,   Train acc: 99.376 \n",
      "Test losses: 1.503,   Test acc: 96.000 \n"
     ]
    },
    {
     "name": "stderr",
     "output_type": "stream",
     "text": [
      "100%|███| 391/391 [03:04<00:00,  2.12it/s, train_accuracy=99.4, train_loss=1.46]\n",
      "100%|███████| 79/79 [00:12<00:00,  6.35it/s, test_accuracy=95.9, test_loss=1.46]\n"
     ]
    },
    {
     "name": "stdout",
     "output_type": "stream",
     "text": [
      "Train losses: 1.470,   Train acc: 99.358 \n",
      "Test losses: 1.503,   Test acc: 95.920 \n"
     ]
    },
    {
     "name": "stderr",
     "output_type": "stream",
     "text": [
      "100%|███| 391/391 [03:04<00:00,  2.12it/s, train_accuracy=99.3, train_loss=1.48]\n",
      "100%|█████████| 79/79 [00:12<00:00,  6.47it/s, test_accuracy=96, test_loss=1.46]\n"
     ]
    },
    {
     "name": "stdout",
     "output_type": "stream",
     "text": [
      "Train losses: 1.470,   Train acc: 99.338 \n",
      "Test losses: 1.502,   Test acc: 96.020 \n"
     ]
    },
    {
     "name": "stderr",
     "output_type": "stream",
     "text": [
      "100%|███| 391/391 [03:04<00:00,  2.12it/s, train_accuracy=99.4, train_loss=1.48]\n",
      "100%|█████████| 79/79 [00:12<00:00,  6.35it/s, test_accuracy=96, test_loss=1.49]\n"
     ]
    },
    {
     "name": "stdout",
     "output_type": "stream",
     "text": [
      "Train losses: 1.470,   Train acc: 99.392 \n",
      "Test losses: 1.503,   Test acc: 95.980 \n"
     ]
    },
    {
     "name": "stderr",
     "output_type": "stream",
     "text": [
      "100%|███| 391/391 [03:04<00:00,  2.12it/s, train_accuracy=99.4, train_loss=1.48]\n",
      "100%|█████████| 79/79 [00:12<00:00,  6.48it/s, test_accuracy=96, test_loss=1.46]\n"
     ]
    },
    {
     "name": "stdout",
     "output_type": "stream",
     "text": [
      "Train losses: 1.470,   Train acc: 99.382 \n",
      "Test losses: 1.503,   Test acc: 95.980 \n"
     ]
    },
    {
     "name": "stderr",
     "output_type": "stream",
     "text": [
      "100%|███| 391/391 [03:04<00:00,  2.12it/s, train_accuracy=99.4, train_loss=1.47]\n",
      "100%|███████| 79/79 [00:12<00:00,  6.44it/s, test_accuracy=95.9, test_loss=1.46]\n"
     ]
    },
    {
     "name": "stdout",
     "output_type": "stream",
     "text": [
      "Train losses: 1.469,   Train acc: 99.386 \n",
      "Test losses: 1.503,   Test acc: 95.870 \n"
     ]
    },
    {
     "name": "stderr",
     "output_type": "stream",
     "text": [
      "100%|███| 391/391 [03:04<00:00,  2.12it/s, train_accuracy=99.4, train_loss=1.47]\n",
      "100%|█████████| 79/79 [00:12<00:00,  6.36it/s, test_accuracy=96, test_loss=1.52]\n"
     ]
    },
    {
     "name": "stdout",
     "output_type": "stream",
     "text": [
      "Train losses: 1.470,   Train acc: 99.382 \n",
      "Test losses: 1.503,   Test acc: 96.020 \n"
     ]
    },
    {
     "name": "stderr",
     "output_type": "stream",
     "text": [
      "100%|███| 391/391 [03:04<00:00,  2.12it/s, train_accuracy=99.4, train_loss=1.47]\n",
      "100%|███████| 79/79 [00:12<00:00,  6.44it/s, test_accuracy=96.1, test_loss=1.46]\n"
     ]
    },
    {
     "name": "stdout",
     "output_type": "stream",
     "text": [
      "Train losses: 1.470,   Train acc: 99.404 \n",
      "Test losses: 1.503,   Test acc: 96.060 \n"
     ]
    },
    {
     "name": "stderr",
     "output_type": "stream",
     "text": [
      "100%|███| 391/391 [03:04<00:00,  2.12it/s, train_accuracy=99.4, train_loss=1.47]\n",
      "100%|█████████| 79/79 [00:12<00:00,  6.35it/s, test_accuracy=96, test_loss=1.46]\n"
     ]
    },
    {
     "name": "stdout",
     "output_type": "stream",
     "text": [
      "Train losses: 1.469,   Train acc: 99.438 \n",
      "Test losses: 1.503,   Test acc: 95.990 \n"
     ]
    },
    {
     "name": "stderr",
     "output_type": "stream",
     "text": [
      "100%|███| 391/391 [03:04<00:00,  2.12it/s, train_accuracy=99.4, train_loss=1.47]\n",
      "100%|███████| 79/79 [00:12<00:00,  6.44it/s, test_accuracy=96.1, test_loss=1.55]\n"
     ]
    },
    {
     "name": "stdout",
     "output_type": "stream",
     "text": [
      "Saving new Best Model!\n",
      "Train losses: 1.469,   Train acc: 99.422 \n",
      "Test losses: 1.503,   Test acc: 96.090 \n"
     ]
    },
    {
     "name": "stderr",
     "output_type": "stream",
     "text": [
      "100%|███| 391/391 [03:04<00:00,  2.12it/s, train_accuracy=99.4, train_loss=1.47]\n",
      "100%|█████████| 79/79 [00:12<00:00,  6.25it/s, test_accuracy=96, test_loss=1.47]\n"
     ]
    },
    {
     "name": "stdout",
     "output_type": "stream",
     "text": [
      "Train losses: 1.469,   Train acc: 99.426 \n",
      "Test losses: 1.503,   Test acc: 95.980 \n"
     ]
    },
    {
     "name": "stderr",
     "output_type": "stream",
     "text": [
      "100%|███| 391/391 [03:04<00:00,  2.12it/s, train_accuracy=99.5, train_loss=1.48]\n",
      "100%|███████| 79/79 [00:12<00:00,  6.44it/s, test_accuracy=96.2, test_loss=1.46]\n"
     ]
    },
    {
     "name": "stdout",
     "output_type": "stream",
     "text": [
      "Saving new Best Model!\n",
      "Train losses: 1.469,   Train acc: 99.452 \n",
      "Test losses: 1.501,   Test acc: 96.230 \n"
     ]
    },
    {
     "name": "stderr",
     "output_type": "stream",
     "text": [
      "100%|███| 391/391 [03:04<00:00,  2.12it/s, train_accuracy=99.5, train_loss=1.47]\n",
      "100%|███████| 79/79 [00:12<00:00,  6.46it/s, test_accuracy=96.2, test_loss=1.46]\n"
     ]
    },
    {
     "name": "stdout",
     "output_type": "stream",
     "text": [
      "Saving new Best Model!\n",
      "Train losses: 1.469,   Train acc: 99.474 \n",
      "Test losses: 1.501,   Test acc: 96.240 \n"
     ]
    },
    {
     "name": "stderr",
     "output_type": "stream",
     "text": [
      "100%|███| 391/391 [03:04<00:00,  2.12it/s, train_accuracy=99.5, train_loss=1.46]\n",
      "100%|██████████| 79/79 [00:12<00:00,  6.35it/s, test_accuracy=96, test_loss=1.5]\n"
     ]
    },
    {
     "name": "stdout",
     "output_type": "stream",
     "text": [
      "Train losses: 1.468,   Train acc: 99.480 \n",
      "Test losses: 1.504,   Test acc: 96.030 \n"
     ]
    },
    {
     "name": "stderr",
     "output_type": "stream",
     "text": [
      "100%|███| 391/391 [03:04<00:00,  2.12it/s, train_accuracy=99.5, train_loss=1.47]\n",
      "100%|███████| 79/79 [00:12<00:00,  6.45it/s, test_accuracy=96.1, test_loss=1.52]\n"
     ]
    },
    {
     "name": "stdout",
     "output_type": "stream",
     "text": [
      "Train losses: 1.468,   Train acc: 99.492 \n",
      "Test losses: 1.503,   Test acc: 96.140 \n"
     ]
    },
    {
     "name": "stderr",
     "output_type": "stream",
     "text": [
      "100%|███| 391/391 [03:04<00:00,  2.12it/s, train_accuracy=99.5, train_loss=1.46]\n",
      "100%|███████| 79/79 [00:12<00:00,  6.40it/s, test_accuracy=96.1, test_loss=1.51]\n"
     ]
    },
    {
     "name": "stdout",
     "output_type": "stream",
     "text": [
      "Train losses: 1.468,   Train acc: 99.538 \n",
      "Test losses: 1.503,   Test acc: 96.080 \n"
     ]
    },
    {
     "name": "stderr",
     "output_type": "stream",
     "text": [
      "100%|███| 391/391 [03:04<00:00,  2.12it/s, train_accuracy=99.5, train_loss=1.46]\n",
      "100%|███████| 79/79 [00:12<00:00,  6.42it/s, test_accuracy=96.1, test_loss=1.46]\n"
     ]
    },
    {
     "name": "stdout",
     "output_type": "stream",
     "text": [
      "Train losses: 1.468,   Train acc: 99.500 \n",
      "Test losses: 1.501,   Test acc: 96.130 \n"
     ]
    },
    {
     "name": "stderr",
     "output_type": "stream",
     "text": [
      "100%|███| 391/391 [03:04<00:00,  2.12it/s, train_accuracy=99.5, train_loss=1.46]\n",
      "100%|███████| 79/79 [00:12<00:00,  6.39it/s, test_accuracy=96.1, test_loss=1.46]\n"
     ]
    },
    {
     "name": "stdout",
     "output_type": "stream",
     "text": [
      "Train losses: 1.468,   Train acc: 99.538 \n",
      "Test losses: 1.503,   Test acc: 96.100 \n"
     ]
    },
    {
     "name": "stderr",
     "output_type": "stream",
     "text": [
      "100%|███| 391/391 [03:04<00:00,  2.12it/s, train_accuracy=99.5, train_loss=1.49]\n",
      "100%|███████| 79/79 [00:12<00:00,  6.33it/s, test_accuracy=96.1, test_loss=1.47]\n"
     ]
    },
    {
     "name": "stdout",
     "output_type": "stream",
     "text": [
      "Train losses: 1.468,   Train acc: 99.466 \n",
      "Test losses: 1.502,   Test acc: 96.090 \n"
     ]
    },
    {
     "name": "stderr",
     "output_type": "stream",
     "text": [
      "100%|███| 391/391 [03:04<00:00,  2.12it/s, train_accuracy=99.5, train_loss=1.46]\n",
      "100%|███████| 79/79 [00:12<00:00,  6.39it/s, test_accuracy=96.2, test_loss=1.46]\n"
     ]
    },
    {
     "name": "stdout",
     "output_type": "stream",
     "text": [
      "Train losses: 1.468,   Train acc: 99.518 \n",
      "Test losses: 1.501,   Test acc: 96.220 \n"
     ]
    },
    {
     "name": "stderr",
     "output_type": "stream",
     "text": [
      "100%|███| 391/391 [03:04<00:00,  2.12it/s, train_accuracy=99.5, train_loss=1.46]\n",
      "100%|███████| 79/79 [00:12<00:00,  6.39it/s, test_accuracy=96.2, test_loss=1.46]\n"
     ]
    },
    {
     "name": "stdout",
     "output_type": "stream",
     "text": [
      "Train losses: 1.468,   Train acc: 99.548 \n",
      "Test losses: 1.501,   Test acc: 96.190 \n"
     ]
    },
    {
     "name": "stderr",
     "output_type": "stream",
     "text": [
      "100%|███| 391/391 [03:03<00:00,  2.13it/s, train_accuracy=99.5, train_loss=1.47]\n",
      "100%|█████████| 79/79 [00:12<00:00,  6.38it/s, test_accuracy=96, test_loss=1.46]\n"
     ]
    },
    {
     "name": "stdout",
     "output_type": "stream",
     "text": [
      "Train losses: 1.467,   Train acc: 99.550 \n",
      "Test losses: 1.502,   Test acc: 95.960 \n"
     ]
    },
    {
     "name": "stderr",
     "output_type": "stream",
     "text": [
      "100%|███| 391/391 [03:04<00:00,  2.12it/s, train_accuracy=99.6, train_loss=1.49]\n",
      "100%|███████| 79/79 [00:12<00:00,  6.45it/s, test_accuracy=95.9, test_loss=1.65]\n"
     ]
    },
    {
     "name": "stdout",
     "output_type": "stream",
     "text": [
      "Train losses: 1.467,   Train acc: 99.598 \n",
      "Test losses: 1.505,   Test acc: 95.920 \n"
     ]
    },
    {
     "name": "stderr",
     "output_type": "stream",
     "text": [
      "100%|███| 391/391 [03:04<00:00,  2.12it/s, train_accuracy=99.6, train_loss=1.47]\n",
      "100%|█████████| 79/79 [00:12<00:00,  6.43it/s, test_accuracy=96, test_loss=1.46]\n"
     ]
    },
    {
     "name": "stdout",
     "output_type": "stream",
     "text": [
      "Train losses: 1.467,   Train acc: 99.566 \n",
      "Test losses: 1.502,   Test acc: 96.040 \n"
     ]
    },
    {
     "name": "stderr",
     "output_type": "stream",
     "text": [
      "100%|███| 391/391 [03:04<00:00,  2.12it/s, train_accuracy=99.6, train_loss=1.46]\n",
      "100%|█████████| 79/79 [00:12<00:00,  6.35it/s, test_accuracy=96, test_loss=1.46]\n"
     ]
    },
    {
     "name": "stdout",
     "output_type": "stream",
     "text": [
      "Train losses: 1.467,   Train acc: 99.584 \n",
      "Test losses: 1.502,   Test acc: 96.010 \n"
     ]
    },
    {
     "name": "stderr",
     "output_type": "stream",
     "text": [
      "100%|███| 391/391 [03:04<00:00,  2.12it/s, train_accuracy=99.6, train_loss=1.46]\n",
      "100%|███████| 79/79 [00:12<00:00,  6.37it/s, test_accuracy=95.9, test_loss=1.48]\n"
     ]
    },
    {
     "name": "stdout",
     "output_type": "stream",
     "text": [
      "Train losses: 1.467,   Train acc: 99.604 \n",
      "Test losses: 1.503,   Test acc: 95.880 \n"
     ]
    },
    {
     "name": "stderr",
     "output_type": "stream",
     "text": [
      "100%|███| 391/391 [03:03<00:00,  2.13it/s, train_accuracy=99.6, train_loss=1.46]\n",
      "100%|█████████| 79/79 [00:12<00:00,  6.41it/s, test_accuracy=96, test_loss=1.52]\n"
     ]
    },
    {
     "name": "stdout",
     "output_type": "stream",
     "text": [
      "Train losses: 1.467,   Train acc: 99.588 \n",
      "Test losses: 1.503,   Test acc: 96.000 \n"
     ]
    },
    {
     "name": "stderr",
     "output_type": "stream",
     "text": [
      "100%|███| 391/391 [03:04<00:00,  2.12it/s, train_accuracy=99.6, train_loss=1.46]\n",
      "100%|███████| 79/79 [00:12<00:00,  6.41it/s, test_accuracy=96.1, test_loss=1.53]\n"
     ]
    },
    {
     "name": "stdout",
     "output_type": "stream",
     "text": [
      "Train losses: 1.467,   Train acc: 99.602 \n",
      "Test losses: 1.502,   Test acc: 96.130 \n"
     ]
    },
    {
     "name": "stderr",
     "output_type": "stream",
     "text": [
      "100%|███| 391/391 [03:04<00:00,  2.12it/s, train_accuracy=99.6, train_loss=1.46]\n",
      "100%|███████| 79/79 [00:12<00:00,  6.45it/s, test_accuracy=96.1, test_loss=1.58]\n"
     ]
    },
    {
     "name": "stdout",
     "output_type": "stream",
     "text": [
      "Train losses: 1.467,   Train acc: 99.590 \n",
      "Test losses: 1.503,   Test acc: 96.090 \n"
     ]
    },
    {
     "name": "stderr",
     "output_type": "stream",
     "text": [
      "100%|███| 391/391 [03:04<00:00,  2.12it/s, train_accuracy=99.6, train_loss=1.46]\n",
      "100%|███████| 79/79 [00:12<00:00,  6.40it/s, test_accuracy=96.1, test_loss=1.47]\n"
     ]
    },
    {
     "name": "stdout",
     "output_type": "stream",
     "text": [
      "Train losses: 1.467,   Train acc: 99.620 \n",
      "Test losses: 1.502,   Test acc: 96.100 \n"
     ]
    },
    {
     "name": "stderr",
     "output_type": "stream",
     "text": [
      "100%|███| 391/391 [03:04<00:00,  2.12it/s, train_accuracy=99.6, train_loss=1.46]\n",
      "100%|███████| 79/79 [00:12<00:00,  6.40it/s, test_accuracy=96.1, test_loss=1.51]\n"
     ]
    },
    {
     "name": "stdout",
     "output_type": "stream",
     "text": [
      "Train losses: 1.466,   Train acc: 99.648 \n",
      "Test losses: 1.503,   Test acc: 96.080 \n"
     ]
    },
    {
     "name": "stderr",
     "output_type": "stream",
     "text": [
      "100%|███| 391/391 [03:03<00:00,  2.13it/s, train_accuracy=99.6, train_loss=1.46]\n",
      "100%|███████| 79/79 [00:12<00:00,  6.48it/s, test_accuracy=96.2, test_loss=1.59]\n"
     ]
    },
    {
     "name": "stdout",
     "output_type": "stream",
     "text": [
      "Train losses: 1.466,   Train acc: 99.626 \n",
      "Test losses: 1.502,   Test acc: 96.230 \n"
     ]
    },
    {
     "name": "stderr",
     "output_type": "stream",
     "text": [
      "100%|███| 391/391 [03:03<00:00,  2.13it/s, train_accuracy=99.6, train_loss=1.47]\n",
      "100%|███████| 79/79 [00:12<00:00,  6.41it/s, test_accuracy=96.1, test_loss=1.47]\n"
     ]
    },
    {
     "name": "stdout",
     "output_type": "stream",
     "text": [
      "Train losses: 1.466,   Train acc: 99.634 \n",
      "Test losses: 1.502,   Test acc: 96.070 \n"
     ]
    },
    {
     "name": "stderr",
     "output_type": "stream",
     "text": [
      "100%|███| 391/391 [03:03<00:00,  2.13it/s, train_accuracy=99.6, train_loss=1.46]\n",
      "100%|███████| 79/79 [00:12<00:00,  6.38it/s, test_accuracy=96.2, test_loss=1.52]\n"
     ]
    },
    {
     "name": "stdout",
     "output_type": "stream",
     "text": [
      "Train losses: 1.466,   Train acc: 99.636 \n",
      "Test losses: 1.501,   Test acc: 96.220 \n"
     ]
    },
    {
     "name": "stderr",
     "output_type": "stream",
     "text": [
      "100%|███| 391/391 [03:04<00:00,  2.12it/s, train_accuracy=99.6, train_loss=1.46]\n",
      "100%|███████| 79/79 [00:12<00:00,  6.47it/s, test_accuracy=96.1, test_loss=1.46]\n"
     ]
    },
    {
     "name": "stdout",
     "output_type": "stream",
     "text": [
      "Train losses: 1.466,   Train acc: 99.620 \n",
      "Test losses: 1.501,   Test acc: 96.120 \n"
     ]
    },
    {
     "name": "stderr",
     "output_type": "stream",
     "text": [
      "100%|███| 391/391 [03:03<00:00,  2.13it/s, train_accuracy=99.7, train_loss=1.46]\n",
      "100%|███████| 79/79 [00:12<00:00,  6.45it/s, test_accuracy=96.2, test_loss=1.46]\n"
     ]
    },
    {
     "name": "stdout",
     "output_type": "stream",
     "text": [
      "Train losses: 1.466,   Train acc: 99.652 \n",
      "Test losses: 1.501,   Test acc: 96.180 \n"
     ]
    },
    {
     "name": "stderr",
     "output_type": "stream",
     "text": [
      "100%|███| 391/391 [03:04<00:00,  2.12it/s, train_accuracy=99.7, train_loss=1.49]\n",
      "100%|███████| 79/79 [00:12<00:00,  6.44it/s, test_accuracy=96.1, test_loss=1.47]\n"
     ]
    },
    {
     "name": "stdout",
     "output_type": "stream",
     "text": [
      "Train losses: 1.466,   Train acc: 99.666 \n",
      "Test losses: 1.500,   Test acc: 96.120 \n"
     ]
    },
    {
     "name": "stderr",
     "output_type": "stream",
     "text": [
      "100%|███| 391/391 [03:04<00:00,  2.12it/s, train_accuracy=99.7, train_loss=1.47]\n",
      "100%|█████████| 79/79 [00:12<00:00,  6.38it/s, test_accuracy=96, test_loss=1.46]\n"
     ]
    },
    {
     "name": "stdout",
     "output_type": "stream",
     "text": [
      "Train losses: 1.466,   Train acc: 99.688 \n",
      "Test losses: 1.502,   Test acc: 96.010 \n"
     ]
    },
    {
     "name": "stderr",
     "output_type": "stream",
     "text": [
      "100%|███| 391/391 [03:04<00:00,  2.12it/s, train_accuracy=99.7, train_loss=1.46]\n",
      "100%|███████| 79/79 [00:12<00:00,  6.42it/s, test_accuracy=96.1, test_loss=1.59]\n"
     ]
    },
    {
     "name": "stdout",
     "output_type": "stream",
     "text": [
      "Train losses: 1.466,   Train acc: 99.654 \n",
      "Test losses: 1.502,   Test acc: 96.100 \n"
     ]
    },
    {
     "name": "stderr",
     "output_type": "stream",
     "text": [
      "100%|███| 391/391 [03:04<00:00,  2.12it/s, train_accuracy=99.7, train_loss=1.46]\n",
      "100%|███████| 79/79 [00:12<00:00,  6.49it/s, test_accuracy=96.1, test_loss=1.52]\n"
     ]
    },
    {
     "name": "stdout",
     "output_type": "stream",
     "text": [
      "Train losses: 1.466,   Train acc: 99.666 \n",
      "Test losses: 1.502,   Test acc: 96.130 \n"
     ]
    },
    {
     "name": "stderr",
     "output_type": "stream",
     "text": [
      "100%|███| 391/391 [03:04<00:00,  2.12it/s, train_accuracy=99.7, train_loss=1.46]\n",
      "100%|███████| 79/79 [00:12<00:00,  6.39it/s, test_accuracy=96.3, test_loss=1.48]\n"
     ]
    },
    {
     "name": "stdout",
     "output_type": "stream",
     "text": [
      "Saving new Best Model!\n",
      "Train losses: 1.466,   Train acc: 99.664 \n",
      "Test losses: 1.501,   Test acc: 96.260 \n"
     ]
    },
    {
     "name": "stderr",
     "output_type": "stream",
     "text": [
      "100%|███| 391/391 [03:03<00:00,  2.13it/s, train_accuracy=99.7, train_loss=1.46]\n",
      "100%|███████| 79/79 [00:12<00:00,  6.49it/s, test_accuracy=96.2, test_loss=1.46]\n"
     ]
    },
    {
     "name": "stdout",
     "output_type": "stream",
     "text": [
      "Train losses: 1.466,   Train acc: 99.670 \n",
      "Test losses: 1.501,   Test acc: 96.190 \n"
     ]
    },
    {
     "name": "stderr",
     "output_type": "stream",
     "text": [
      "100%|███| 391/391 [03:04<00:00,  2.12it/s, train_accuracy=99.7, train_loss=1.48]\n",
      "100%|███████| 79/79 [00:12<00:00,  6.37it/s, test_accuracy=96.3, test_loss=1.49]\n"
     ]
    },
    {
     "name": "stdout",
     "output_type": "stream",
     "text": [
      "Saving new Best Model!\n",
      "Train losses: 1.466,   Train acc: 99.668 \n",
      "Test losses: 1.500,   Test acc: 96.260 \n"
     ]
    },
    {
     "name": "stderr",
     "output_type": "stream",
     "text": [
      "100%|███| 391/391 [03:04<00:00,  2.12it/s, train_accuracy=99.7, train_loss=1.47]\n",
      "100%|███████| 79/79 [00:12<00:00,  6.43it/s, test_accuracy=96.1, test_loss=1.46]\n"
     ]
    },
    {
     "name": "stdout",
     "output_type": "stream",
     "text": [
      "Train losses: 1.466,   Train acc: 99.690 \n",
      "Test losses: 1.502,   Test acc: 96.060 \n"
     ]
    },
    {
     "name": "stderr",
     "output_type": "stream",
     "text": [
      "100%|███| 391/391 [03:04<00:00,  2.12it/s, train_accuracy=99.7, train_loss=1.46]\n",
      "100%|███████| 79/79 [00:12<00:00,  6.44it/s, test_accuracy=96.1, test_loss=1.54]\n"
     ]
    },
    {
     "name": "stdout",
     "output_type": "stream",
     "text": [
      "Train losses: 1.466,   Train acc: 99.688 \n",
      "Test losses: 1.502,   Test acc: 96.120 \n"
     ]
    },
    {
     "name": "stderr",
     "output_type": "stream",
     "text": [
      "100%|███| 391/391 [03:04<00:00,  2.12it/s, train_accuracy=99.7, train_loss=1.48]\n",
      "100%|███████| 79/79 [00:12<00:00,  6.47it/s, test_accuracy=96.1, test_loss=1.59]\n"
     ]
    },
    {
     "name": "stdout",
     "output_type": "stream",
     "text": [
      "Train losses: 1.465,   Train acc: 99.696 \n",
      "Test losses: 1.503,   Test acc: 96.080 \n"
     ]
    },
    {
     "name": "stderr",
     "output_type": "stream",
     "text": [
      "100%|███| 391/391 [03:03<00:00,  2.13it/s, train_accuracy=99.7, train_loss=1.48]\n",
      "100%|█████████| 79/79 [00:12<00:00,  6.47it/s, test_accuracy=96, test_loss=1.47]\n"
     ]
    },
    {
     "name": "stdout",
     "output_type": "stream",
     "text": [
      "Train losses: 1.466,   Train acc: 99.696 \n",
      "Test losses: 1.501,   Test acc: 96.040 \n"
     ]
    },
    {
     "name": "stderr",
     "output_type": "stream",
     "text": [
      "100%|███| 391/391 [03:04<00:00,  2.12it/s, train_accuracy=99.7, train_loss=1.46]\n",
      "100%|███████| 79/79 [00:12<00:00,  6.45it/s, test_accuracy=96.1, test_loss=1.46]"
     ]
    },
    {
     "name": "stdout",
     "output_type": "stream",
     "text": [
      "Train losses: 1.465,   Train acc: 99.724 \n",
      "Test losses: 1.501,   Test acc: 96.090 \n"
     ]
    },
    {
     "name": "stderr",
     "output_type": "stream",
     "text": [
      "\n"
     ]
    }
   ],
   "source": [
    "last_best = 0\n",
    "train_losses = []\n",
    "train_acc = []\n",
    "test_losses = []\n",
    "test_acc = []\n",
    "for epoch in range (EPOCHS):\n",
    "    \n",
    "    train_loss, train_accuracy = trainEpoch(DEVICE, model, train_loader, optimizer, criterion)\n",
    "    test_loss, test_accuracy = testEpoch(DEVICE, model, test_loader, criterion)\n",
    "\n",
    "    train_losses.append(train_loss)\n",
    "    train_acc.append(train_accuracy)\n",
    "    test_losses.append(test_loss)\n",
    "    test_acc.append(test_accuracy)\n",
    "\n",
    "    scheduler.step()\n",
    "\n",
    "    if last_best <= test_accuracy:\n",
    "        torch.save(model.state_dict(), 'resnet_50_pretrained_baseline.pt')\n",
    "        print(\"Saving new Best Model!\")\n",
    "        last_best = test_accuracy\n",
    "\n",
    "    print(\"Train losses: {0:.3f},   Train acc: {1:.3f} \".format(train_losses[-1], train_acc[-1]))\n",
    "    print(\"Test losses: {0:.3f},   Test acc: {1:.3f} \".format(test_losses[-1], test_acc[-1]))\n",
    "\n",
    "dict = {'train_loss': train_losses, 'train_accuracy': train_acc, 'test_loss': test_losses, 'test_accuracy': test_acc}\n",
    "df = pd.DataFrame(dict)\n",
    "df.to_csv('loss_and_acc_resnet50_baseline.csv')"
   ]
  },
  {
   "cell_type": "code",
   "execution_count": null,
   "metadata": {},
   "outputs": [],
   "source": []
  },
  {
   "cell_type": "code",
   "execution_count": null,
   "metadata": {},
   "outputs": [],
   "source": []
  }
 ],
 "metadata": {
  "interpreter": {
   "hash": "6d8d8073d784cde9880c89875ffb60a34a71c8c6c19405eee55b0ff6b69406fb"
  },
  "kernelspec": {
   "display_name": "Python 3 (ipykernel)",
   "language": "python",
   "name": "python3"
  },
  "language_info": {
   "codemirror_mode": {
    "name": "ipython",
    "version": 3
   },
   "file_extension": ".py",
   "mimetype": "text/x-python",
   "name": "python",
   "nbconvert_exporter": "python",
   "pygments_lexer": "ipython3",
   "version": "3.9.12"
  }
 },
 "nbformat": 4,
 "nbformat_minor": 2
}
